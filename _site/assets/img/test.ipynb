{
 "cells": [
  {
   "cell_type": "code",
   "execution_count": null,
   "metadata": {},
   "outputs": [],
   "source": [
    "from PIL import Image\n",
    "\n",
    "\n",
    "def image_clip(filename, savename, width_scale, height_scale):\n",
    "    \"\"\"图像裁剪\n",
    "\n",
    "    :param filename: 原图路径\n",
    "    :param savename: 保存图片路径\n",
    "    :param width_scale: 宽的比例\n",
    "    :param height_scale: 高的比例\n",
    "    \"\"\"\n",
    "    image = Image.open(filename)\n",
    "    (width, height), (_width, _height) = image.size, image.size\n",
    "    _height = width / width_scale * height_scale\n",
    "    if _height > height:\n",
    "        _height = height\n",
    "        _width = width_scale * height / height_scale\n",
    "    image.crop((0, 0, _width, _height)).save(savename)  # 左上角\n",
    "    # image.crop((0, height - _height, _width, height)).save(savename)  # 左下角\n",
    "    # image.crop((width - _width, 0, width, _height)).save(savename)  # 右上角\n",
    "    # image.crop((width - _width, height - _height, width, height)).save(savename)  # 右下角\n",
    "\n",
    "\n",
    "if __name__ == '__main__':\n",
    "    filename = '1.jpg'\n",
    "    savename = 'result.jpg'\n",
    "    # image_clip(filename, savename, width_scale=4, height_scale=3)\n",
    "    image_clip(filename, savename, width_scale=3, height_scale=4)\n"
   ]
  }
 ],
 "metadata": {
  "kernelspec": {
   "display_name": "base",
   "language": "python",
   "name": "python3"
  },
  "language_info": {
   "name": "python",
   "version": "3.9.12"
  },
  "orig_nbformat": 4
 },
 "nbformat": 4,
 "nbformat_minor": 2
}
