{
 "cells": [
  {
   "cell_type": "code",
   "execution_count": 8,
   "metadata": {},
   "outputs": [
    {
     "name": "stdout",
     "output_type": "stream",
     "text": [
      "./Members/chengzihao.jpg\n",
      "./Members/chenjiajun.jpg\n",
      "./Members/fengji.jpg\n",
      "./Members/fengjunjie.jpg\n",
      "./Members/guozitong.jpg\n",
      "./Members/hujiaming.jpg\n",
      "./Members/lindanni.jpg\n",
      "./Members/liuyuanye.jpg\n",
      "./Members/nanshufeng.jpg\n",
      "./Members/pengyibo.jpg\n",
      "./Members/qiuxingyu.jpg\n"
     ]
    },
    {
     "ename": "OSError",
     "evalue": "cannot write mode RGBA as JPEG",
     "output_type": "error",
     "traceback": [
      "\u001b[0;31m---------------------------------------------------------------------------\u001b[0m",
      "\u001b[0;31mKeyError\u001b[0m                                  Traceback (most recent call last)",
      "File \u001b[0;32m/opt/miniconda3/lib/python3.9/site-packages/PIL/JpegImagePlugin.py:630\u001b[0m, in \u001b[0;36m_save\u001b[0;34m(im, fp, filename)\u001b[0m\n\u001b[1;32m    629\u001b[0m \u001b[39mtry\u001b[39;00m:\n\u001b[0;32m--> 630\u001b[0m     rawmode \u001b[39m=\u001b[39m RAWMODE[im\u001b[39m.\u001b[39;49mmode]\n\u001b[1;32m    631\u001b[0m \u001b[39mexcept\u001b[39;00m \u001b[39mKeyError\u001b[39;00m \u001b[39mas\u001b[39;00m e:\n",
      "\u001b[0;31mKeyError\u001b[0m: 'RGBA'",
      "\nThe above exception was the direct cause of the following exception:\n",
      "\u001b[0;31mOSError\u001b[0m                                   Traceback (most recent call last)",
      "\u001b[1;32m/Users/henrylau/Documents/FDU2023JK4.github.io/assets/img/test.ipynb 单元格 1\u001b[0m in \u001b[0;36m<cell line: 24>\u001b[0;34m()\u001b[0m\n\u001b[1;32m     <a href='vscode-notebook-cell:/Users/henrylau/Documents/FDU2023JK4.github.io/assets/img/test.ipynb#W0sZmlsZQ%3D%3D?line=27'>28</a>\u001b[0m p_pth \u001b[39m=\u001b[39m pth \u001b[39m+\u001b[39m p\n\u001b[1;32m     <a href='vscode-notebook-cell:/Users/henrylau/Documents/FDU2023JK4.github.io/assets/img/test.ipynb#W0sZmlsZQ%3D%3D?line=28'>29</a>\u001b[0m \u001b[39mprint\u001b[39m(p_pth)\n\u001b[0;32m---> <a href='vscode-notebook-cell:/Users/henrylau/Documents/FDU2023JK4.github.io/assets/img/test.ipynb#W0sZmlsZQ%3D%3D?line=29'>30</a>\u001b[0m image_clip(p_pth, p_pth, width_scale\u001b[39m=\u001b[39;49m\u001b[39m3\u001b[39;49m, height_scale\u001b[39m=\u001b[39;49m\u001b[39m4\u001b[39;49m)\n",
      "\u001b[1;32m/Users/henrylau/Documents/FDU2023JK4.github.io/assets/img/test.ipynb 单元格 1\u001b[0m in \u001b[0;36mimage_clip\u001b[0;34m(filename, savename, width_scale, height_scale)\u001b[0m\n\u001b[1;32m     <a href='vscode-notebook-cell:/Users/henrylau/Documents/FDU2023JK4.github.io/assets/img/test.ipynb#W0sZmlsZQ%3D%3D?line=15'>16</a>\u001b[0m     _height \u001b[39m=\u001b[39m height\n\u001b[1;32m     <a href='vscode-notebook-cell:/Users/henrylau/Documents/FDU2023JK4.github.io/assets/img/test.ipynb#W0sZmlsZQ%3D%3D?line=16'>17</a>\u001b[0m     _width \u001b[39m=\u001b[39m width_scale \u001b[39m*\u001b[39m height \u001b[39m/\u001b[39m height_scale\n\u001b[0;32m---> <a href='vscode-notebook-cell:/Users/henrylau/Documents/FDU2023JK4.github.io/assets/img/test.ipynb#W0sZmlsZQ%3D%3D?line=17'>18</a>\u001b[0m image\u001b[39m.\u001b[39;49mcrop((\u001b[39m0\u001b[39;49m, \u001b[39m0\u001b[39;49m, _width, _height))\u001b[39m.\u001b[39;49msave(savename)\n",
      "File \u001b[0;32m/opt/miniconda3/lib/python3.9/site-packages/PIL/Image.py:2320\u001b[0m, in \u001b[0;36mImage.save\u001b[0;34m(self, fp, format, **params)\u001b[0m\n\u001b[1;32m   2317\u001b[0m         fp \u001b[39m=\u001b[39m builtins\u001b[39m.\u001b[39mopen(filename, \u001b[39m\"\u001b[39m\u001b[39mw+b\u001b[39m\u001b[39m\"\u001b[39m)\n\u001b[1;32m   2319\u001b[0m \u001b[39mtry\u001b[39;00m:\n\u001b[0;32m-> 2320\u001b[0m     save_handler(\u001b[39mself\u001b[39;49m, fp, filename)\n\u001b[1;32m   2321\u001b[0m \u001b[39mexcept\u001b[39;00m \u001b[39mException\u001b[39;00m:\n\u001b[1;32m   2322\u001b[0m     \u001b[39mif\u001b[39;00m open_fp:\n",
      "File \u001b[0;32m/opt/miniconda3/lib/python3.9/site-packages/PIL/JpegImagePlugin.py:632\u001b[0m, in \u001b[0;36m_save\u001b[0;34m(im, fp, filename)\u001b[0m\n\u001b[1;32m    630\u001b[0m     rawmode \u001b[39m=\u001b[39m RAWMODE[im\u001b[39m.\u001b[39mmode]\n\u001b[1;32m    631\u001b[0m \u001b[39mexcept\u001b[39;00m \u001b[39mKeyError\u001b[39;00m \u001b[39mas\u001b[39;00m e:\n\u001b[0;32m--> 632\u001b[0m     \u001b[39mraise\u001b[39;00m \u001b[39mOSError\u001b[39;00m(\u001b[39mf\u001b[39m\u001b[39m\"\u001b[39m\u001b[39mcannot write mode \u001b[39m\u001b[39m{\u001b[39;00mim\u001b[39m.\u001b[39mmode\u001b[39m}\u001b[39;00m\u001b[39m as JPEG\u001b[39m\u001b[39m\"\u001b[39m) \u001b[39mfrom\u001b[39;00m \u001b[39me\u001b[39;00m\n\u001b[1;32m    634\u001b[0m info \u001b[39m=\u001b[39m im\u001b[39m.\u001b[39mencoderinfo\n\u001b[1;32m    636\u001b[0m dpi \u001b[39m=\u001b[39m [\u001b[39mround\u001b[39m(x) \u001b[39mfor\u001b[39;00m x \u001b[39min\u001b[39;00m info\u001b[39m.\u001b[39mget(\u001b[39m\"\u001b[39m\u001b[39mdpi\u001b[39m\u001b[39m\"\u001b[39m, (\u001b[39m0\u001b[39m, \u001b[39m0\u001b[39m))]\n",
      "\u001b[0;31mOSError\u001b[0m: cannot write mode RGBA as JPEG"
     ]
    }
   ],
   "source": [
    "from PIL import Image\n",
    "import os\n",
    "\n",
    "def image_clip(filename, savename, width_scale, height_scale):\n",
    "    \"\"\"图像裁剪\n",
    "\n",
    "    :param filename: 原图路径\n",
    "    :param savename: 保存图片路径\n",
    "    :param width_scale: 宽的比例\n",
    "    :param height_scale: 高的比例\n",
    "    \"\"\"\n",
    "    image = Image.open(filename)\n",
    "    (width, height), (_width, _height) = image.size, image.size\n",
    "    _height = width / width_scale * height_scale\n",
    "    if _height > height:\n",
    "        _height = height\n",
    "        _width = width_scale * height / height_scale\n",
    "    image.crop((0, 0, _width, _height)).save(savename)  # 左上角\n",
    "    # image.crop((0, height - _height, _width, height)).save(savename)  # 左下角\n",
    "    # image.crop((width - _width, 0, width, _height)).save(savename)  # 右上角\n",
    "    # image.crop((width - _width, height - _height, width, height)).save(savename)  # 右下角\n",
    "\n",
    "\n",
    "if __name__ == '__main__':\n",
    "    pth = './Members/'\n",
    "    files = sorted(os.listdir(pth))\n",
    "    for p in files[1:]:\n",
    "        p_pth = pth + p\n",
    "        print(p_pth)\n",
    "        image_clip(p_pth, p_pth, width_scale=3, height_scale=4)\n",
    "\n"
   ]
  }
 ],
 "metadata": {
  "kernelspec": {
   "display_name": "base",
   "language": "python",
   "name": "python3"
  },
  "language_info": {
   "codemirror_mode": {
    "name": "ipython",
    "version": 3
   },
   "file_extension": ".py",
   "mimetype": "text/x-python",
   "name": "python",
   "nbconvert_exporter": "python",
   "pygments_lexer": "ipython3",
   "version": "3.9.12"
  },
  "orig_nbformat": 4
 },
 "nbformat": 4,
 "nbformat_minor": 2
}
